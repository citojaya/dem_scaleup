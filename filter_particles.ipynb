{
 "cells": [
  {
   "cell_type": "code",
   "execution_count": 3,
   "metadata": {},
   "outputs": [
    {
     "ename": "FileNotFoundError",
     "evalue": "[Errno 2] No such file or directory: '../../drum/4000mm/50mm\\\\sample.dump'",
     "output_type": "error",
     "traceback": [
      "\u001b[1;31m---------------------------------------------------------------------------\u001b[0m",
      "\u001b[1;31mFileNotFoundError\u001b[0m                         Traceback (most recent call last)",
      "\u001b[1;32m<ipython-input-3-a01191cc05fd>\u001b[0m in \u001b[0;36m<module>\u001b[1;34m\u001b[0m\n\u001b[0;32m     60\u001b[0m \u001b[0mfin\u001b[0m \u001b[1;33m=\u001b[0m \u001b[0mos\u001b[0m\u001b[1;33m.\u001b[0m\u001b[0mpath\u001b[0m\u001b[1;33m.\u001b[0m\u001b[0mjoin\u001b[0m\u001b[1;33m(\u001b[0m\u001b[0mpath\u001b[0m\u001b[1;33m,\u001b[0m \u001b[1;34m\"sample.dump\"\u001b[0m\u001b[1;33m)\u001b[0m\u001b[1;33m\u001b[0m\u001b[1;33m\u001b[0m\u001b[0m\n\u001b[0;32m     61\u001b[0m \u001b[0mfout\u001b[0m \u001b[1;33m=\u001b[0m \u001b[0mos\u001b[0m\u001b[1;33m.\u001b[0m\u001b[0mpath\u001b[0m\u001b[1;33m.\u001b[0m\u001b[0mjoin\u001b[0m\u001b[1;33m(\u001b[0m\u001b[0mpath\u001b[0m\u001b[1;33m,\u001b[0m \u001b[1;34m\"filter.dump\"\u001b[0m\u001b[1;33m)\u001b[0m\u001b[1;33m\u001b[0m\u001b[1;33m\u001b[0m\u001b[0m\n\u001b[1;32m---> 62\u001b[1;33m \u001b[1;33m(\u001b[0m\u001b[0mdata\u001b[0m\u001b[1;33m,\u001b[0m \u001b[0mtotalNp\u001b[0m\u001b[1;33m)\u001b[0m \u001b[1;33m=\u001b[0m \u001b[0mfilter\u001b[0m\u001b[1;33m(\u001b[0m\u001b[0mreadFile\u001b[0m\u001b[1;33m(\u001b[0m\u001b[0mfin\u001b[0m\u001b[1;33m)\u001b[0m\u001b[1;33m)\u001b[0m\u001b[1;33m\u001b[0m\u001b[1;33m\u001b[0m\u001b[0m\n\u001b[0m\u001b[0;32m     63\u001b[0m \u001b[1;31m# (data, totalNp) = withinCircle(readFile(fin), 1700)\u001b[0m\u001b[1;33m\u001b[0m\u001b[1;33m\u001b[0m\u001b[1;33m\u001b[0m\u001b[0m\n\u001b[0;32m     64\u001b[0m \u001b[1;33m\u001b[0m\u001b[0m\n",
      "\u001b[1;32m<ipython-input-3-a01191cc05fd>\u001b[0m in \u001b[0;36mreadFile\u001b[1;34m(fin)\u001b[0m\n\u001b[0;32m     51\u001b[0m \u001b[1;32mdef\u001b[0m \u001b[0mreadFile\u001b[0m\u001b[1;33m(\u001b[0m\u001b[0mfin\u001b[0m\u001b[1;33m)\u001b[0m\u001b[1;33m:\u001b[0m\u001b[1;33m\u001b[0m\u001b[1;33m\u001b[0m\u001b[0m\n\u001b[0;32m     52\u001b[0m     \u001b[0mdata\u001b[0m \u001b[1;33m=\u001b[0m \u001b[1;33m[\u001b[0m\u001b[1;33m]\u001b[0m\u001b[1;33m\u001b[0m\u001b[1;33m\u001b[0m\u001b[0m\n\u001b[1;32m---> 53\u001b[1;33m     \u001b[1;32mwith\u001b[0m \u001b[0mopen\u001b[0m \u001b[1;33m(\u001b[0m\u001b[0mfin\u001b[0m\u001b[1;33m)\u001b[0m \u001b[1;32mas\u001b[0m \u001b[0mf\u001b[0m\u001b[1;33m:\u001b[0m\u001b[1;33m\u001b[0m\u001b[1;33m\u001b[0m\u001b[0m\n\u001b[0m\u001b[0;32m     54\u001b[0m         \u001b[1;32mfor\u001b[0m \u001b[0mline\u001b[0m \u001b[1;32min\u001b[0m \u001b[0mf\u001b[0m\u001b[1;33m:\u001b[0m\u001b[1;33m\u001b[0m\u001b[1;33m\u001b[0m\u001b[0m\n\u001b[0;32m     55\u001b[0m             \u001b[0mdata\u001b[0m\u001b[1;33m.\u001b[0m\u001b[0mappend\u001b[0m\u001b[1;33m(\u001b[0m\u001b[0mline\u001b[0m\u001b[1;33m)\u001b[0m\u001b[1;33m\u001b[0m\u001b[1;33m\u001b[0m\u001b[0m\n",
      "\u001b[1;31mFileNotFoundError\u001b[0m: [Errno 2] No such file or directory: '../../drum/4000mm/50mm\\\\sample.dump'"
     ]
    }
   ],
   "source": [
    "import numpy as np\n",
    "# import matplotlib as plt\n",
    "# import pandas as pd\n",
    "import os.path\n",
    "\n",
    "def filter(data):\n",
    "    out_data = []\n",
    "    totalNp = 0\n",
    "    npp = int(data[3].split()[0])\n",
    "    ccent = np.array([0,0,0])\n",
    "\n",
    "    \n",
    "    for i in range(7, npp+7):\n",
    "        tup = data[i].strip().split()\n",
    "        (px,py,pz) = (float(tup[0]),float(tup[1]),float(tup[2]))\n",
    "        pcent = np.array([px,0.0,pz])\n",
    "        dist = np.linalg.norm((ccent - pcent))\n",
    "        \n",
    "        if(float(tup[1]) > 30 and float(tup[1]) < 220):\n",
    "            line = \" \".join([tup[0],tup[1],tup[2],tup[3],tup[4],tup[5],tup[6]])\n",
    "            out_data.append(line)\n",
    "            totalNp += 1\n",
    "    return (out_data, totalNp)\n",
    "\n",
    "def withinCircle(data,r):\n",
    "    out_data = []\n",
    "    totalNp = 0\n",
    "    ccent = np.array([0,0,0])\n",
    "    for line in data[7:]:\n",
    "        (px,py,pz) = (float(line.split()[0]),float(line.split()[1]),float(line.split()[2]))\n",
    "        pcent = np.array([px,0.0,pz])\n",
    "        dist = np.linalg.norm((ccent - pcent))\n",
    "        if (dist < r):\n",
    "            out_data.append(line.strip())\n",
    "            totalNp += 1\n",
    "    return(out_data,totalNp)   \n",
    "\n",
    "def writeFile(fout, data, np):\n",
    "    f = open(fout, \"w\")\n",
    "    f.write(\"TIME\\n\") \n",
    "    f.write(\"0.0\\n\")\n",
    "    f.write(\"NP\\n\")\n",
    "    f.write(str(np)+\"\\n\")\n",
    "    f.write(\"ROTANG\\n\")\n",
    "    f.write(\"0.0\\n\")  \n",
    "    f.write(\"PARTICLES\\n\")\n",
    "    for line in data:\n",
    "        f.write(line+\"\\n\")\n",
    "    \n",
    "    \n",
    "def readFile(fin):\n",
    "    data = []\n",
    "    with open (fin) as f:\n",
    "        for line in f:\n",
    "            data.append(line)\n",
    "    \n",
    "    return data\n",
    "\n",
    "path = \"../../drum/4000mm/50mm\"\n",
    "fin = os.path.join(path, \"sample.dump\")\n",
    "fout = os.path.join(path, \"filter.dump\")\n",
    "(data, totalNp) = filter(readFile(fin))\n",
    "# (data, totalNp) = withinCircle(readFile(fin), 1700)\n",
    "\n",
    "writeFile(fout, data, totalNp)\n",
    "\n",
    "print(\"DONE\")"
   ]
  },
  {
   "cell_type": "code",
   "execution_count": null,
   "metadata": {},
   "outputs": [],
   "source": []
  },
  {
   "cell_type": "code",
   "execution_count": null,
   "metadata": {},
   "outputs": [],
   "source": []
  }
 ],
 "metadata": {
  "kernelspec": {
   "display_name": "Python 3",
   "language": "python",
   "name": "python3"
  },
  "language_info": {
   "codemirror_mode": {
    "name": "ipython",
    "version": 3
   },
   "file_extension": ".py",
   "mimetype": "text/x-python",
   "name": "python",
   "nbconvert_exporter": "python",
   "pygments_lexer": "ipython3",
   "version": "3.8.5"
  }
 },
 "nbformat": 4,
 "nbformat_minor": 4
}
