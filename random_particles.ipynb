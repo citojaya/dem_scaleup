{
 "cells": [
  {
   "cell_type": "code",
   "execution_count": 1,
   "metadata": {},
   "outputs": [],
   "source": [
    "import os.path\n",
    "import numpy as np\n",
    "import matplotlib.pyplot as plt\n",
    "import pandas as pd\n",
    "import random"
   ]
  },
  {
   "cell_type": "code",
   "execution_count": 2,
   "metadata": {},
   "outputs": [],
   "source": [
    "def distance(px,py,pz,px2,py2,pz2):\n",
    "    dist = np.sqrt(np.power((float(px)-float(px2)),2)+np.power((float(py)-float(py2)),2)+np.power((float(pz)-float(pz2)),2))\n",
    "    return dist\n",
    "\n",
    "def insertable(px,py,pz,dia,particle, centerDist):\n",
    "    for x in range(len(particle)):\n",
    "        (px2,py2,pz2) = particle[x]\n",
    "        if(distance(px,py,pz,px2,py2,pz2) < centerDist): \n",
    "            return False\n",
    "    return True\n",
    "\n",
    "def withinCircle(px,py,pz,r):\n",
    "#     ccent = np.array([1493,0.0,-3015]) # For turbuhaler\n",
    "#     ccent = np.array([2849,0.0,-3015]) # For turbuhaler\n",
    "#     ccent = np.array([0,0.0,0]) # For Utube\n",
    "    ccent = np.array([0,0,0])\n",
    "    pcent = np.array([px,0.0,pz])\n",
    "    dist = np.linalg.norm((ccent - pcent))\n",
    "#     r = 50000 # um\n",
    "    if (dist < r):\n",
    "        return True\n",
    "    else:\n",
    "        return False\n",
    "    \n",
    "    \n",
    "    \n",
    "def randomList(xmin, xmax, ymin, ymax, zmin, zmax,dia,tot, centerDist, r):\n",
    "    noOfParts = 0\n",
    "    particle = []\n",
    "    plist = []\n",
    "    plist.append(\"TIME\\n\")\n",
    "    plist.append(\"0.0\\n\")\n",
    "    plist.append(\"NP\\n\")\n",
    "    plist.append(str(tot)+\"\\n\")\n",
    "    plist.append(\"ROTANG\\n\")\n",
    "    plist.append(\"0\\n\")\n",
    "    plist.append(\"PARTICLES\\n\")\n",
    "    \n",
    "    while(noOfParts < tot):\n",
    "        px = random.randint(xmin,xmax)\n",
    "        py = random.randint(ymin,ymax)\n",
    "        pz = random.randint(zmin,zmax)\n",
    "        \n",
    "        \n",
    "        if(insertable(px,py,pz,dia,particle, centerDist)):\n",
    "             if(withinCircle(px,py,pz,r)): # condition only for turbuhaler\n",
    "                line = \" \".join([str(round(px*1e-3,9)),str(round(py*1e-3,9)),str(round(pz*1e-3,9))+\" 0.0 0.0 0.0 \"+str(round(dia*1e3,9))+\"\\n\"])\n",
    "                plist.append(line)\n",
    "                particle.append((px,py,pz))\n",
    "                noOfParts += 1\n",
    "                if(noOfParts%100 == 0):\n",
    "                    print(\"Particles \",noOfParts,\" inserted\")\n",
    "\n",
    "    return plist\n",
    "\n",
    "def writeFile(fout, data):\n",
    "    f = open(fout, \"w\")\n",
    "    for line in data:\n",
    "        f.write(line)\n",
    "    f.close()"
   ]
  },
  {
   "cell_type": "code",
   "execution_count": 3,
   "metadata": {},
   "outputs": [],
   "source": [
    "path = \"../../drum/254mm/\"\n",
    "# path = \"E:/Documents/test/inhalers/handy/39LPM/nonsp5um\"\n",
    "# path = \"E:/Documents/test/Utubenonsp\"\n",
    "# path = \"E:/Documents/test/settle/mill\"\n",
    "# outf = os.path.join(path, \"60um.inj\")"
   ]
  },
  {
   "cell_type": "code",
   "execution_count": 13,
   "metadata": {},
   "outputs": [
    {
     "name": "stdout",
     "output_type": "stream",
     "text": [
      "DONE\n"
     ]
    }
   ],
   "source": [
    "# Enter region in micro meters\n",
    "tot = 20 # total number of particles \n",
    "# centDist = 27000 # um\n",
    "\n",
    "dia = 25.4e-3 # particle diameter in meters\n",
    "centDist = 1.2*dia*1e6\n",
    "# mill_dia = 250000 # um\n",
    "mill_dia =230000 # um\n",
    "r = 0.5*mill_dia - 1e6*dia # maximum radial distance for random particles\n",
    "ymin = 50\n",
    "ymax = 200\n",
    "\n",
    "# Mill\n",
    "(xmin, xmax, ymin, ymax, zmin, zmax) = (-0.5*mill_dia, 0.5*mill_dia, ymin, ymax, -0.5*mill_dia, 0.5*mill_dia)\n",
    "data = randomList(xmin, xmax, ymin, ymax, zmin, zmax, dia, tot, centDist, r)\n",
    "\n",
    "\n",
    "# Turbuhaler\n",
    "# (xmin, xmax, ymin, ymax, zmin, zmax) = (20, 5700, 50, 250, -5800, 30)\n",
    "# data = randomList(xmin, xmax, ymin, ymax, zmin, zmax, dia, tot, centDist)\n",
    "\n",
    "# Handyhaler\n",
    "# (xmin, xmax, ymin, ymax, zmin, zmax) = (-1050, 1050, 2600, 6700, -900, 900)\n",
    "# data = randomList(xmin, xmax, ymin, ymax, zmin, zmax, tot, centDist)\n",
    "\n",
    "# Utube (test case)\n",
    "# (xmin, xmax, ymin, ymax, zmin, zmax) = (-400, 400, 5, 15, -400, 400)\n",
    "# data = randomList(xmin, xmax, ymin, ymax, zmin, zmax, tot, centDist)\n",
    "\n",
    "# Mill \n",
    "# (xmin, xmax, ymin, ymax, zmin, zmax) = (-160000, 160000, 25000, 200000, -160000, 160000)\n",
    "# data = randomList(xmin, xmax, ymin, ymax, zmin, zmax, tot, centDist)\n",
    "\n",
    "# fout = os.path.join(path, str(tot)+\".dump\")\n",
    "fout = os.path.join(path, \"sample.dump\")\n",
    "writeFile(fout, data)\n",
    "print(\"DONE\")"
   ]
  },
  {
   "cell_type": "code",
   "execution_count": null,
   "metadata": {},
   "outputs": [],
   "source": []
  }
 ],
 "metadata": {
  "kernelspec": {
   "display_name": "Python 3",
   "language": "python",
   "name": "python3"
  },
  "language_info": {
   "codemirror_mode": {
    "name": "ipython",
    "version": 3
   },
   "file_extension": ".py",
   "mimetype": "text/x-python",
   "name": "python",
   "nbconvert_exporter": "python",
   "pygments_lexer": "ipython3",
   "version": "3.8.5"
  }
 },
 "nbformat": 4,
 "nbformat_minor": 2
}
