{
 "cells": [
  {
   "cell_type": "code",
   "execution_count": 1,
   "metadata": {},
   "outputs": [],
   "source": [
    "# from hyperopt import Trials, STATUS_OK, tpe\n",
    "# from hyperas import optim\n",
    "# from hyperas.distributions import choice, uniform\n",
    "from tensorflow.python.keras.models import Sequential\n",
    "from tensorflow.python.keras.layers import Input, Dense\n",
    "\n",
    "import numpy as np\n",
    "import seaborn as sns\n",
    "import pandas as pd\n",
    "import matplotlib.pyplot as plt\n",
    "import os.path"
   ]
  },
  {
   "cell_type": "code",
   "execution_count": 2,
   "metadata": {},
   "outputs": [],
   "source": [
    "# model.add(Dense(50, activation='linear'))\n",
    "\n",
    "# # model.add(Dense(50, activation='relu'))\n",
    "# model.add(Dense(1)) # last layer with 1 neuron\n",
    "# model.compile(optimizer='rmsprop', loss='mse') # for regression models\n",
    "\n",
    "\n",
    "\n",
    "# def model(X_train, Y_train, X_val, Y_val):\n",
    "    \n",
    "#     model = Sequential()\n",
    "#     model.add(Dense({{choice([128, 256, 512, 1024])}}, activation={{choice(['relu', 'sigmoid'])}}))\n",
    "# #     model.add(Activation({{choice(['relu', 'sigmoid'])}}))\n",
    "#     model.add(Dropout({{uniform(0, 1)}}))\n",
    "# #     model.add(Dense({{choice([128, 256, 512, 1024])}}))\n",
    "# #     model.add(Activation({{choice(['relu', 'sigmoid'])}}))\n",
    "# #     model.add(Dropout({{uniform(0, 1)}}))\n",
    "    \n",
    "#     if conditional({{choice(['two', 'three'])}}) == 'three':\n",
    "#         model.add(Dense({{choice([128, 256, 512, 1024])}}))\n",
    "#         model.add(Activation({{choice(['relu', 'sigmoid'])}}))\n",
    "#         model.add(Dropout({{uniform(0, 1)}}))\n",
    "        \n",
    "#     model.add(Dense(10))\n",
    "#     model.add(Activation('softmax'))\n",
    "#     adam = keras.optimizers.Adam(lr={{choice([10**-3, 10**-2, 10**-1])}})\n",
    "#     rmsprop = keras.optimizers.RMSprop(lr={{choice([10**-3, 10**-2, 10**-1])}})\n",
    "#     sgd = keras.optimizers.SGD(lr={{choice([10**-3, 10**-2, 10**-1])}})\n",
    "   \n",
    "#     choiceval = {{choice(['adam', 'sgd', 'rmsprop'])}}\n",
    "#     if choiceval == 'adam':\n",
    "#         optim = adam\n",
    "#     elif choiceval == 'rmsprop':\n",
    "#         optim = rmsprop\n",
    "#     else:\n",
    "#         optim = sgd\n",
    "        \n",
    "#     model.compile(loss='categorical_crossentropy', metrics=['accuracy'],optimizer=optim)\n",
    "#     model.fit(X_train, Y_train,\n",
    "#               batch_size={{choice([128,256,512])}},\n",
    "#               nb_epoch=20,\n",
    "#               verbose=2,\n",
    "#               validation_data=(X_val, Y_val))\n",
    "#     score, acc = model.evaluate(X_val, Y_val, verbose=0)\n",
    "#     print('Test accuracy:', acc)\n",
    "#     return {'loss': -acc, 'status': STATUS_OK, 'model': model}"
   ]
  },
  {
   "cell_type": "code",
   "execution_count": 3,
   "metadata": {},
   "outputs": [
    {
     "name": "stdout",
     "output_type": "stream",
     "text": [
      "The shape of our features is: (160000, 7)\n",
      "Index(['id', 't', 'x', 'y', 'z', 'velX', '100velX'], dtype='object')\n"
     ]
    },
    {
     "data": {
      "image/png": "[encoded data removed]",
      "text/plain": [
       "<Figure size 432x288 with 1 Axes>"
      ]
     },
     "metadata": {
      "needs_background": "light"
     },
     "output_type": "display_data"
    }
   ],
   "source": [
    "from pandas_profiling import ProfileReport\n",
    "\n",
    "dir = 'C:/Users/Chandana Jaysundara/Documents/mill/test_code_new/254mm/25.4mm/0.3J/0.5N'\n",
    "fin = os.path.join(dir,'particle_velocity.csv')\n",
    "\n",
    "df = pd.read_csv(fin)\n",
    "df_filter = df['t'] < 100\n",
    "df = df[df_filter]\n",
    "df = df.append(df)\n",
    "df = df.append(df)\n",
    "df = df.append(df)\n",
    "df0 = df\n",
    "\n",
    "plt.scatter(df['x'],df['100velX'])\n",
    "# df = pd.read_excel('refined2.xlsx')\n",
    "# df0 = pd.read_excel('refined2.xlsx')\n",
    "print('The shape of our features is:', df.shape)\n",
    "print(df.columns)\n",
    "# df = df.iloc[:-3,:]\n",
    "# print(len(df))\"\"\n",
    "# print(df.tail())\n",
    "# sns.regplot(x=df['IE_per_mass'],y=df['tot_mass'], fit_reg=False)\n",
    "\n",
    "# df_filter = df['k1'] < 2\n",
    "# df = df[df_filter]\n",
    "\n",
    "# print(df.head())\n",
    "# df = df[df['k1']]\n",
    "\n",
    "# ProfileReport(df)\n"
   ]
  },
  {
   "cell_type": "code",
   "execution_count": 4,
   "metadata": {},
   "outputs": [],
   "source": [
    "# df.columns"
   ]
  },
  {
   "cell_type": "code",
   "execution_count": 5,
   "metadata": {},
   "outputs": [
    {
     "name": "stdout",
     "output_type": "stream",
     "text": [
      "(160000, 4)\n",
      "Index(['t', 'x', 'y', 'z'], dtype='object')\n"
     ]
    }
   ],
   "source": [
    "from sklearn.model_selection import train_test_split\n",
    "# y = df['wear_rate_percentage'].values\n",
    "y = df['100velX'].values\n",
    "\n",
    "df= df.drop('id', axis = 1)\n",
    "df= df.drop('velX', axis = 1)\n",
    "df= df.drop('100velX', axis = 1)\n",
    "# df= df.drop('t', axis = 1)\n",
    "# df= df.drop('x', axis = 1)\n",
    "# df= df.drop('y', axis = 1)\n",
    "# df= df.drop('z', axis = 1)\n",
    "\n",
    "\n",
    "# Convert to numpy array\n",
    "X = df.values\n",
    "\n",
    "\n",
    "print(df.shape)\n",
    "print(df.columns)"
   ]
  },
  {
   "cell_type": "code",
   "execution_count": 6,
   "metadata": {},
   "outputs": [],
   "source": [
    "# sns.pairplot(df)\n"
   ]
  },
  {
   "cell_type": "code",
   "execution_count": 7,
   "metadata": {},
   "outputs": [
    {
     "name": "stdout",
     "output_type": "stream",
     "text": [
      "(107200, 4)\n",
      "(52800, 4)\n"
     ]
    }
   ],
   "source": [
    "# X_train, X_test, y_train, y_test = train_test_split(X, y, test_size=0.33, random_state=42)\n",
    "X_train, X_test, y_train, y_test = train_test_split(X, y, test_size=0.33, random_state=42)\n",
    "print(X_train.shape)\n",
    "print(X_test.shape)\n"
   ]
  },
  {
   "cell_type": "code",
   "execution_count": 8,
   "metadata": {},
   "outputs": [],
   "source": [
    "from sklearn.preprocessing import MinMaxScaler\n",
    "scaler = MinMaxScaler()\n",
    "scaler.fit(X_train)\n",
    "X_train = scaler.transform(X_train)\n",
    "scaler.fit(X_test)\n",
    "X_test = scaler.transform(X_test)"
   ]
  },
  {
   "cell_type": "code",
   "execution_count": 9,
   "metadata": {},
   "outputs": [],
   "source": [
    "#help(MinMaxScaler)"
   ]
  },
  {
   "cell_type": "code",
   "execution_count": 10,
   "metadata": {},
   "outputs": [],
   "source": [
    "# model = Sequential([Dense(4, activation='relu'),\n",
    "#                    Dense(4, activation='relu'),\n",
    "#                    Dense(1)])"
   ]
  },
  {
   "cell_type": "code",
   "execution_count": 11,
   "metadata": {},
   "outputs": [],
   "source": [
    "# from tensorflow.python.keras.models import Sequential\n",
    "# from tensorflow.python.keras.layers import Input, Dense\n",
    "from keras.layers import GaussianNoise\n",
    "\n",
    "\n",
    "model = Sequential()\n",
    "model.add(Dense(50, activation='relu'))\n",
    "model.add(Dense(50, activation='relu'))\n",
    "model.add(Dense(50, activation='relu'))\n",
    "# model.add(Dense(50, activation='relu'))\n",
    "# model.add(Dense(50, activation='relu'))\n",
    "# model.add(Dense(50, activation='relu'))\n",
    "# model.add(Dense(50, activation='relu'))\n",
    "# model.add(GaussianNoise(0.1))\n",
    "# model.add(Dense(50,input_dim=X.shape[1],activation='relu'))\n",
    "\n",
    "\n",
    "# model.add(Dense(50, activation='relu'))\n",
    "model.add(Dense(1, activation='linear')) # last layer with 1 neuron\n",
    "model.compile(optimizer='adam', loss='mse')\n",
    "# model.compile(optimizer='rmsprop', loss='mse', metrics=['accuracy']) # for regression models\n",
    "# model.compile(loss='binary_crossentropy',otimizer='adam',metric=['accuray'])\n"
   ]
  },
  {
   "cell_type": "code",
   "execution_count": 12,
   "metadata": {},
   "outputs": [
    {
     "name": "stdout",
     "output_type": "stream",
     "text": [
      "dict_keys(['loss', 'val_loss'])\n",
      "         loss  val_loss\n",
      "0    4.257555  4.243003\n",
      "1    4.241164  4.228525\n",
      "2    4.226148  4.215173\n",
      "3    4.212337  4.203053\n",
      "4    4.199839  4.192214\n",
      "..        ...       ...\n",
      "495  1.078469  1.073672\n",
      "496  1.074284  1.071915\n",
      "497  1.072519  1.071927\n",
      "498  1.072629  1.071593\n",
      "499  1.072073  1.068993\n",
      "\n",
      "[500 rows x 2 columns]\n",
      "<tensorflow.python.keras.callbacks.History object at 0x00000185E72611F0>\n"
     ]
    },
    {
     "data": {
      "image/png": "[encoded data removed]",
      "text/plain": [
       "<Figure size 432x324 with 1 Axes>"
      ]
     },
     "metadata": {
      "needs_background": "light"
     },
     "output_type": "display_data"
    }
   ],
   "source": [
    "# epochs - number of iterations\n",
    "\n",
    "# his = model.fit(X, y, validation_split=0.3, epochs=1000, batch_size=len(X),verbose=0, random_state=42)\n",
    "his = model.fit(x=X_train, y=y_train, validation_data=(X_test,y_test), epochs=500, batch_size=len(X),verbose=0)\n",
    "print(his.history.keys())\n",
    "\n",
    "\n",
    "# fig = plt.figure(figsize=(6,4.5))\n",
    "# ax = fig.add_axes([0.2,0.2,0.7,0.7])\n",
    "# Summarize history for accuracy\n",
    "# plt.plot(his.history['accuracy'])\n",
    "# plt.plot(his.history['val_accuracy'])\n",
    "# plt.legend(['train, test'], loc='best')\n",
    "# plt.ylabel('accuracy')\n",
    "# plt.xlabel('epoch')\n",
    "# plt.show()\n",
    "\n",
    "# Summarize history for loss\n",
    "# plt.plot(his.history['loss'])\n",
    "# plt.plot(his.history['val_loss'])\n",
    "# plt.legend(['train, test'], loc='best')\n",
    "# plt.ylabel('loss')\n",
    "# plt.xlabel('epoch')\n",
    "# plt.show()\n",
    "\n",
    "# print(len(his.history.epoch))\n",
    "# epoch = np.arange(0,10,1)\n",
    "# print(model.history.history['loss'])\n",
    "# print(his.history['loss'])\n",
    "# ax.plot(model.history.epoch, his.history['loss'], label='train')\n",
    "# ax.plot(model.history.epoch, his.history['val_loss'], label='test')\n",
    "\n",
    "# ax.plot(epoch, his.history['accuracy'], label='train')\n",
    "# ax.plot(epoch, his.history['val_accuracy'], label='test')\n",
    "\n",
    "#         ,his.history['val_loss'])\n",
    "\n",
    "# lg = plt.legend(loc='best')\n",
    "\n",
    "# fout = \"loss2.jpg\"\n",
    "# fig.savefig(fout, dpi=500)\n",
    "\n",
    "# print(model.history.epoch)\n",
    "# model.history.validation_data\n",
    "# val_data = pd.DataFrame(model.history.validation_data);\n",
    "# model.history.validation_data\n",
    "\n",
    "loss_df = pd.DataFrame(model.history.history)\n",
    "fig = plt.figure(figsize=(6,4.5))\n",
    "ax = fig.add_axes([0.2,0.2,0.7,0.7])\n",
    "# loss_df.plot()\n",
    "print(loss_df)\n",
    "# ax.set_ylim(0,0.4)\n",
    "ax.plot(model.history.epoch, loss_df['loss'], label='Train')\n",
    "ax.plot(model.history.epoch, loss_df['val_loss'], label='Test', alpha=0.5)\n",
    "print(model.history)"
   ]
  },
  {
   "cell_type": "code",
   "execution_count": 13,
   "metadata": {},
   "outputs": [
    {
     "name": "stdout",
     "output_type": "stream",
     "text": [
      "Test MSE  1.0689928531646729\n",
      "Train MSE 1.0696300268173218\n"
     ]
    }
   ],
   "source": [
    "# Mean squared error of test data (loss)\n",
    "print(\"Test MSE \",model.evaluate(X_test, y_test, verbose=0))\n",
    "# Mean squared error of training data (loss)\n",
    "print(\"Train MSE\",model.evaluate(X_train, y_train, verbose=0))\n",
    "\n",
    "# from ann_visualizer.visualize import ann_viz;\n",
    "# ann_viz(model, title=\"GOOD\")"
   ]
  },
  {
   "cell_type": "code",
   "execution_count": 14,
   "metadata": {},
   "outputs": [
    {
     "name": "stderr",
     "output_type": "stream",
     "text": [
      "No handles with labels found to put in legend.\n"
     ]
    },
    {
     "name": "stdout",
     "output_type": "stream",
     "text": [
      "52800\n",
      "Invalid % 0.9639962121212121\n"
     ]
    },
    {
     "data": {
      "image/png": "[encoded data removed]",
      "text/plain": [
       "<Figure size 432x288 with 1 Axes>"
      ]
     },
     "metadata": {
      "needs_background": "light"
     },
     "output_type": "display_data"
    },
    {
     "data": {
      "image/png": "[encoded data removed]",
      "text/plain": [
       "<Figure size 576x324 with 1 Axes>"
      ]
     },
     "metadata": {
      "needs_background": "light"
     },
     "output_type": "display_data"
    }
   ],
   "source": [
    "import matplotlib.pyplot as plt\n",
    "%matplotlib inline\n",
    "# predictions based on test data\n",
    "test_predictions = model.predict(X_test)\n",
    "# Convert numpy array to Pandas series and reshape \n",
    "test_predictions = pd.Series(test_predictions.reshape(len(test_predictions),))\n",
    "print(len(test_predictions))\n",
    "t = X_test[:,0]\n",
    "posx = X_test[:,1]\n",
    "# Create a dataframe\n",
    "\n",
    "pred_df = pd.DataFrame(y_test, columns=['Test True Y'])\n",
    "pred_df = pd.concat([pred_df, test_predictions],axis=1)\n",
    "# print(pred_df)\n",
    "\n",
    "pred_df.columns = ['Test True Y', 'Model Predictions']\n",
    "#sns.pairplot(pred_df)\n",
    "plt.scatter(pred_df['Test True Y'],pred_df['Model Predictions'], )\n",
    "\n",
    "\n",
    "fig = plt.figure(figsize=(8,4.5))\n",
    "ax = fig.add_axes([0.2,0.2,0.7,0.7])\n",
    "# ax.set_xlim(0,50)\n",
    "ax.set_xlabel('Time(s)', size=12)\n",
    "ax.set_ylabel('Amplitude', size=12)\n",
    "# plt.scatter(posx,pred_df['Test True Y'], s=12, label='Real')\n",
    "# plt.scatter(posx,pred_df['Model Predictions'], s=4, label='Prediction', color='orange')\n",
    "lg = plt.legend(loc='best')\n",
    "\n",
    "errors = abs(pred_df['Test True Y']-pred_df['Model Predictions'])\n",
    "invalid = errors > 0.05\n",
    "\n",
    "count = 0\n",
    "for i in range(len(invalid)):\n",
    "    if(invalid[i]):\n",
    "        count += 1\n",
    "print(\"Invalid %\", count/len(invalid))\n",
    "\n",
    "actual = np.array(pred_df['Test True Y'])\n",
    "pred = np.array(pred_df['Model Predictions'])\n",
    "\n",
    "# fout = os.path.join(dir, \"pic/true_vs_prediction.jpg\")\n",
    "# fig.savefig(fout, dpi=600)\n",
    "\n",
    "\n",
    "# invalid_rows = []\n",
    "# for i in range(len(pred_df['Test True Y'])):\n",
    "#     if(actual[i]/pred[i] > 0.1 and actual[i]/pred[i] > 2.2):\n",
    "#         invalid_rows.append((df0['id'].iloc[i]))\n",
    "\n",
    "# print(invalid_rows)\n",
    "# # print(pred_df[invalid])\n",
    "# print(\"Valid count\",len(actual))\n",
    "# print(\"Invalid count\",len(invalid_rows))\n",
    "\n",
    "# delete = df0.drop(df0.index[[2, 4, 5, 10, 13, 14, 15, 16, 22, 23, 26, 28, 30, 59, 62, 63, 65, 72, 75]])\n",
    "# delete.to_excel('refined2.xlsx')\n",
    "\n",
    "# print(test_predictions)"
   ]
  },
  {
   "cell_type": "code",
   "execution_count": 15,
   "metadata": {},
   "outputs": [
    {
     "data": {
      "text/plain": [
       "1.033921314348373"
      ]
     },
     "execution_count": 15,
     "metadata": {},
     "output_type": "execute_result"
    }
   ],
   "source": [
    "from sklearn.metrics import mean_absolute_error,mean_squared_error\n",
    "mean_absolute_error(pred_df['Test True Y'],pred_df['Model Predictions'])\n",
    "mean_squared_error(pred_df['Test True Y'],pred_df['Model Predictions'])\n",
    "# RMS\n",
    "mean_squared_error(pred_df['Test True Y'],pred_df['Model Predictions'])**0.5"
   ]
  },
  {
   "cell_type": "code",
   "execution_count": 16,
   "metadata": {},
   "outputs": [],
   "source": [
    "# New data\n",
    "#mill_dia\tpar_dia\ttot_mass\tN*\trpm\t\n",
    "# new_mill = [[1000,25.4,553.4,0.5,21.3]]\n",
    "\n",
    "# # scale data\n",
    "# new_mill= scaler.transform(new_mill)\n",
    "\n",
    "# model.predict(new_mill)"
   ]
  },
  {
   "cell_type": "code",
   "execution_count": 17,
   "metadata": {},
   "outputs": [],
   "source": [
    "# df0 = pd.read_excel('prediction_8_steps.xlsx', sheet_name='8-8')\n",
    "# features= df0.drop('z', axis = 1)\n",
    "# features= features.drop('z_raw', axis = 1)\n",
    "# features= features.drop('h', axis = 1)\n",
    "# features= features.drop('finnei', axis = 1)\n",
    "# # features= features.drop('shear', axis = 1)\n",
    "\n",
    "# features= features.drop('newh', axis = 1)\n",
    "# features= features.drop('d', axis = 1)\n",
    "\n",
    "# features= features.drop('E/A', axis = 1)\n",
    "# features= features.drop('shear', axis = 1)\n",
    "# features= features.drop('h/z', axis = 1)\n",
    "# features= features.drop('normE', axis = 1)\n",
    "# # features= features.drop('normh', axis = 1)\n",
    "# # features= features.drop('atan', axis = 1)\n",
    "# features= features.drop('modnewh', axis = 1)\n",
    "# features= features.drop('k1', axis = 1)\n",
    "# print(features.columns)\n",
    "# print(features.shape)\n",
    "\n",
    "\n",
    "# scaler = MinMaxScaler()\n",
    "# scaler.fit(features)\n",
    "# new_data = scaler.transform(features)\n",
    "\n",
    "# # print(new_data)\n",
    "# predictions = model.predict(new_data)\n",
    "# df = pd.DataFrame(predictions, columns=['k1'])\n",
    "\n",
    "# dt = 11575\n",
    "# hard = 500.\n",
    "# df0['k1'] = predictions\n",
    "# df0['newh'] = np.array(df0['h']) - 41.*dt*np.array(df0['k1'])*np.array(df0['shear'])*1e-6*(50.0/100.)/hard\n",
    "\n",
    "# df0.to_excel('k8-8.xlsx')\n"
   ]
  },
  {
   "cell_type": "code",
   "execution_count": 18,
   "metadata": {},
   "outputs": [],
   "source": [
    "# If your model is complex and takes a lot of time to train, it is better to save as a hdfs file\n",
    "#from tensorflow.python.keras.models import load_model"
   ]
  },
  {
   "cell_type": "code",
   "execution_count": 19,
   "metadata": {},
   "outputs": [],
   "source": [
    "#model.save('my_gem_model.h5')"
   ]
  },
  {
   "cell_type": "code",
   "execution_count": 20,
   "metadata": {},
   "outputs": [],
   "source": [
    "#later_model = load_model('my_gem_model.h5')"
   ]
  },
  {
   "cell_type": "code",
   "execution_count": 21,
   "metadata": {},
   "outputs": [],
   "source": [
    "#later_model.predict(new_gem)"
   ]
  },
  {
   "cell_type": "code",
   "execution_count": null,
   "metadata": {},
   "outputs": [],
   "source": []
  }
 ],
 "metadata": {
  "kernelspec": {
   "display_name": "Python 3",
   "language": "python",
   "name": "python3"
  },
  "language_info": {
   "codemirror_mode": {
    "name": "ipython",
    "version": 3
   },
   "file_extension": ".py",
   "mimetype": "text/x-python",
   "name": "python",
   "nbconvert_exporter": "python",
   "pygments_lexer": "ipython3",
   "version": "3.8.5"
  }
 },
 "nbformat": 4,
 "nbformat_minor": 2
}
