{
 "cells": [
  {
   "cell_type": "code",
   "execution_count": 1,
   "metadata": {},
   "outputs": [
    {
     "name": "stdout",
     "output_type": "stream",
     "text": [
      "282934\n",
      "quantiles 1e-05 0.010869999999999998\n"
     ]
    },
    {
     "name": "stderr",
     "output_type": "stream",
     "text": [
      "C:\\ProgramData\\Anaconda3\\lib\\site-packages\\seaborn\\_decorators.py:36: FutureWarning: Pass the following variable as a keyword arg: x. From version 0.12, the only valid positional argument will be `data`, and passing other arguments without an explicit keyword will result in an error or misinterpretation.\n",
      "  warnings.warn(\n"
     ]
    },
    {
     "name": "stdout",
     "output_type": "stream",
     "text": [
      "284334\n",
      "quantiles 2e-05 0.01231\n"
     ]
    },
    {
     "name": "stderr",
     "output_type": "stream",
     "text": [
      "C:\\ProgramData\\Anaconda3\\lib\\site-packages\\seaborn\\_decorators.py:36: FutureWarning: Pass the following variable as a keyword arg: x. From version 0.12, the only valid positional argument will be `data`, and passing other arguments without an explicit keyword will result in an error or misinterpretation.\n",
      "  warnings.warn(\n"
     ]
    },
    {
     "name": "stdout",
     "output_type": "stream",
     "text": [
      "287426\n",
      "quantiles 2e-05 0.01361\n"
     ]
    },
    {
     "name": "stderr",
     "output_type": "stream",
     "text": [
      "C:\\ProgramData\\Anaconda3\\lib\\site-packages\\seaborn\\_decorators.py:36: FutureWarning: Pass the following variable as a keyword arg: x. From version 0.12, the only valid positional argument will be `data`, and passing other arguments without an explicit keyword will result in an error or misinterpretation.\n",
      "  warnings.warn(\n"
     ]
    },
    {
     "name": "stdout",
     "output_type": "stream",
     "text": [
      "372669\n",
      "quantiles 1e-05 0.01148\n"
     ]
    },
    {
     "name": "stderr",
     "output_type": "stream",
     "text": [
      "C:\\ProgramData\\Anaconda3\\lib\\site-packages\\seaborn\\_decorators.py:36: FutureWarning: Pass the following variable as a keyword arg: x. From version 0.12, the only valid positional argument will be `data`, and passing other arguments without an explicit keyword will result in an error or misinterpretation.\n",
      "  warnings.warn(\n"
     ]
    },
    {
     "name": "stdout",
     "output_type": "stream",
     "text": [
      "376896\n",
      "quantiles 1e-05 0.01281\n"
     ]
    },
    {
     "name": "stderr",
     "output_type": "stream",
     "text": [
      "C:\\ProgramData\\Anaconda3\\lib\\site-packages\\seaborn\\_decorators.py:36: FutureWarning: Pass the following variable as a keyword arg: x. From version 0.12, the only valid positional argument will be `data`, and passing other arguments without an explicit keyword will result in an error or misinterpretation.\n",
      "  warnings.warn(\n"
     ]
    },
    {
     "name": "stdout",
     "output_type": "stream",
     "text": [
      "381895\n",
      "quantiles 1e-05 0.01379\n"
     ]
    },
    {
     "name": "stderr",
     "output_type": "stream",
     "text": [
      "C:\\ProgramData\\Anaconda3\\lib\\site-packages\\seaborn\\_decorators.py:36: FutureWarning: Pass the following variable as a keyword arg: x. From version 0.12, the only valid positional argument will be `data`, and passing other arguments without an explicit keyword will result in an error or misinterpretation.\n",
      "  warnings.warn(\n"
     ]
    },
    {
     "name": "stdout",
     "output_type": "stream",
     "text": [
      "450953\n",
      "quantiles 1.0000000000000003e-05 0.00942\n"
     ]
    },
    {
     "name": "stderr",
     "output_type": "stream",
     "text": [
      "C:\\ProgramData\\Anaconda3\\lib\\site-packages\\seaborn\\_decorators.py:36: FutureWarning: Pass the following variable as a keyword arg: x. From version 0.12, the only valid positional argument will be `data`, and passing other arguments without an explicit keyword will result in an error or misinterpretation.\n",
      "  warnings.warn(\n"
     ]
    },
    {
     "name": "stdout",
     "output_type": "stream",
     "text": [
      "458900\n",
      "quantiles 1e-05 0.01044\n"
     ]
    },
    {
     "name": "stderr",
     "output_type": "stream",
     "text": [
      "C:\\ProgramData\\Anaconda3\\lib\\site-packages\\seaborn\\_decorators.py:36: FutureWarning: Pass the following variable as a keyword arg: x. From version 0.12, the only valid positional argument will be `data`, and passing other arguments without an explicit keyword will result in an error or misinterpretation.\n",
      "  warnings.warn(\n"
     ]
    },
    {
     "name": "stdout",
     "output_type": "stream",
     "text": [
      "466317\n",
      "quantiles 2e-05 0.01121\n"
     ]
    },
    {
     "name": "stderr",
     "output_type": "stream",
     "text": [
      "C:\\ProgramData\\Anaconda3\\lib\\site-packages\\seaborn\\_decorators.py:36: FutureWarning: Pass the following variable as a keyword arg: x. From version 0.12, the only valid positional argument will be `data`, and passing other arguments without an explicit keyword will result in an error or misinterpretation.\n",
      "  warnings.warn(\n"
     ]
    },
    {
     "name": "stdout",
     "output_type": "stream",
     "text": [
      "53061\n",
      "quantiles 3e-05 0.01651\n"
     ]
    },
    {
     "name": "stderr",
     "output_type": "stream",
     "text": [
      "C:\\ProgramData\\Anaconda3\\lib\\site-packages\\seaborn\\_decorators.py:36: FutureWarning: Pass the following variable as a keyword arg: x. From version 0.12, the only valid positional argument will be `data`, and passing other arguments without an explicit keyword will result in an error or misinterpretation.\n",
      "  warnings.warn(\n"
     ]
    },
    {
     "name": "stdout",
     "output_type": "stream",
     "text": [
      "54551\n",
      "quantiles 2.9999999999999997e-05 0.01908\n"
     ]
    },
    {
     "name": "stderr",
     "output_type": "stream",
     "text": [
      "C:\\ProgramData\\Anaconda3\\lib\\site-packages\\seaborn\\_decorators.py:36: FutureWarning: Pass the following variable as a keyword arg: x. From version 0.12, the only valid positional argument will be `data`, and passing other arguments without an explicit keyword will result in an error or misinterpretation.\n",
      "  warnings.warn(\n"
     ]
    },
    {
     "name": "stdout",
     "output_type": "stream",
     "text": [
      "55233\n",
      "quantiles 3e-05 0.02106\n"
     ]
    },
    {
     "name": "stderr",
     "output_type": "stream",
     "text": [
      "C:\\ProgramData\\Anaconda3\\lib\\site-packages\\seaborn\\_decorators.py:36: FutureWarning: Pass the following variable as a keyword arg: x. From version 0.12, the only valid positional argument will be `data`, and passing other arguments without an explicit keyword will result in an error or misinterpretation.\n",
      "  warnings.warn(\n"
     ]
    },
    {
     "name": "stdout",
     "output_type": "stream",
     "text": [
      "72067\n",
      "quantiles 3e-05 0.02258\n"
     ]
    },
    {
     "name": "stderr",
     "output_type": "stream",
     "text": [
      "C:\\ProgramData\\Anaconda3\\lib\\site-packages\\seaborn\\_decorators.py:36: FutureWarning: Pass the following variable as a keyword arg: x. From version 0.12, the only valid positional argument will be `data`, and passing other arguments without an explicit keyword will result in an error or misinterpretation.\n",
      "  warnings.warn(\n"
     ]
    },
    {
     "name": "stdout",
     "output_type": "stream",
     "text": [
      "73133\n",
      "quantiles 2.9999999999999997e-05 0.0259\n"
     ]
    },
    {
     "name": "stderr",
     "output_type": "stream",
     "text": [
      "C:\\ProgramData\\Anaconda3\\lib\\site-packages\\seaborn\\_decorators.py:36: FutureWarning: Pass the following variable as a keyword arg: x. From version 0.12, the only valid positional argument will be `data`, and passing other arguments without an explicit keyword will result in an error or misinterpretation.\n",
      "  warnings.warn(\n"
     ]
    },
    {
     "name": "stdout",
     "output_type": "stream",
     "text": [
      "74706\n",
      "quantiles 2.9999999999999997e-05 0.02864\n"
     ]
    },
    {
     "name": "stderr",
     "output_type": "stream",
     "text": [
      "C:\\ProgramData\\Anaconda3\\lib\\site-packages\\seaborn\\_decorators.py:36: FutureWarning: Pass the following variable as a keyword arg: x. From version 0.12, the only valid positional argument will be `data`, and passing other arguments without an explicit keyword will result in an error or misinterpretation.\n",
      "  warnings.warn(\n"
     ]
    },
    {
     "name": "stdout",
     "output_type": "stream",
     "text": [
      "86719\n",
      "quantiles 3e-05 0.02286\n"
     ]
    },
    {
     "name": "stderr",
     "output_type": "stream",
     "text": [
      "C:\\ProgramData\\Anaconda3\\lib\\site-packages\\seaborn\\_decorators.py:36: FutureWarning: Pass the following variable as a keyword arg: x. From version 0.12, the only valid positional argument will be `data`, and passing other arguments without an explicit keyword will result in an error or misinterpretation.\n",
      "  warnings.warn(\n"
     ]
    },
    {
     "name": "stdout",
     "output_type": "stream",
     "text": [
      "88510\n",
      "quantiles 2e-05 0.0257\n"
     ]
    },
    {
     "name": "stderr",
     "output_type": "stream",
     "text": [
      "C:\\ProgramData\\Anaconda3\\lib\\site-packages\\seaborn\\_decorators.py:36: FutureWarning: Pass the following variable as a keyword arg: x. From version 0.12, the only valid positional argument will be `data`, and passing other arguments without an explicit keyword will result in an error or misinterpretation.\n",
      "  warnings.warn(\n"
     ]
    },
    {
     "name": "stdout",
     "output_type": "stream",
     "text": [
      "91715\n",
      "quantiles 2e-05 0.02731\n"
     ]
    },
    {
     "name": "stderr",
     "output_type": "stream",
     "text": [
      "C:\\ProgramData\\Anaconda3\\lib\\site-packages\\seaborn\\_decorators.py:36: FutureWarning: Pass the following variable as a keyword arg: x. From version 0.12, the only valid positional argument will be `data`, and passing other arguments without an explicit keyword will result in an error or misinterpretation.\n",
      "  warnings.warn(\n"
     ]
    },
    {
     "name": "stdout",
     "output_type": "stream",
     "text": [
      "35813\n",
      "quantiles 6e-05 0.013990000000000002\n"
     ]
    },
    {
     "name": "stderr",
     "output_type": "stream",
     "text": [
      "C:\\ProgramData\\Anaconda3\\lib\\site-packages\\seaborn\\_decorators.py:36: FutureWarning: Pass the following variable as a keyword arg: x. From version 0.12, the only valid positional argument will be `data`, and passing other arguments without an explicit keyword will result in an error or misinterpretation.\n",
      "  warnings.warn(\n"
     ]
    },
    {
     "name": "stdout",
     "output_type": "stream",
     "text": [
      "35897\n",
      "quantiles 6e-05 0.0168\n"
     ]
    },
    {
     "name": "stderr",
     "output_type": "stream",
     "text": [
      "C:\\ProgramData\\Anaconda3\\lib\\site-packages\\seaborn\\_decorators.py:36: FutureWarning: Pass the following variable as a keyword arg: x. From version 0.12, the only valid positional argument will be `data`, and passing other arguments without an explicit keyword will result in an error or misinterpretation.\n",
      "  warnings.warn(\n"
     ]
    },
    {
     "name": "stdout",
     "output_type": "stream",
     "text": [
      "35498\n",
      "quantiles 6e-05 0.01954\n"
     ]
    },
    {
     "name": "stderr",
     "output_type": "stream",
     "text": [
      "C:\\ProgramData\\Anaconda3\\lib\\site-packages\\seaborn\\_decorators.py:36: FutureWarning: Pass the following variable as a keyword arg: x. From version 0.12, the only valid positional argument will be `data`, and passing other arguments without an explicit keyword will result in an error or misinterpretation.\n",
      "  warnings.warn(\n"
     ]
    },
    {
     "name": "stdout",
     "output_type": "stream",
     "text": [
      "47319\n",
      "quantiles 6e-05 0.01741\n"
     ]
    },
    {
     "name": "stderr",
     "output_type": "stream",
     "text": [
      "C:\\ProgramData\\Anaconda3\\lib\\site-packages\\seaborn\\_decorators.py:36: FutureWarning: Pass the following variable as a keyword arg: x. From version 0.12, the only valid positional argument will be `data`, and passing other arguments without an explicit keyword will result in an error or misinterpretation.\n",
      "  warnings.warn(\n"
     ]
    },
    {
     "name": "stdout",
     "output_type": "stream",
     "text": [
      "47785\n",
      "quantiles 7e-05 0.02088\n"
     ]
    },
    {
     "name": "stderr",
     "output_type": "stream",
     "text": [
      "C:\\ProgramData\\Anaconda3\\lib\\site-packages\\seaborn\\_decorators.py:36: FutureWarning: Pass the following variable as a keyword arg: x. From version 0.12, the only valid positional argument will be `data`, and passing other arguments without an explicit keyword will result in an error or misinterpretation.\n",
      "  warnings.warn(\n"
     ]
    },
    {
     "name": "stdout",
     "output_type": "stream",
     "text": [
      "47562\n",
      "quantiles 7e-05 0.02436\n"
     ]
    },
    {
     "name": "stderr",
     "output_type": "stream",
     "text": [
      "C:\\ProgramData\\Anaconda3\\lib\\site-packages\\seaborn\\_decorators.py:36: FutureWarning: Pass the following variable as a keyword arg: x. From version 0.12, the only valid positional argument will be `data`, and passing other arguments without an explicit keyword will result in an error or misinterpretation.\n",
      "  warnings.warn(\n"
     ]
    },
    {
     "name": "stdout",
     "output_type": "stream",
     "text": [
      "60836\n",
      "quantiles 3e-05 0.01802\n"
     ]
    },
    {
     "name": "stderr",
     "output_type": "stream",
     "text": [
      "C:\\ProgramData\\Anaconda3\\lib\\site-packages\\seaborn\\_decorators.py:36: FutureWarning: Pass the following variable as a keyword arg: x. From version 0.12, the only valid positional argument will be `data`, and passing other arguments without an explicit keyword will result in an error or misinterpretation.\n",
      "  warnings.warn(\n"
     ]
    },
    {
     "name": "stdout",
     "output_type": "stream",
     "text": [
      "60769\n",
      "quantiles 5.000000000000001e-05 0.0206\n"
     ]
    },
    {
     "name": "stderr",
     "output_type": "stream",
     "text": [
      "C:\\ProgramData\\Anaconda3\\lib\\site-packages\\seaborn\\_decorators.py:36: FutureWarning: Pass the following variable as a keyword arg: x. From version 0.12, the only valid positional argument will be `data`, and passing other arguments without an explicit keyword will result in an error or misinterpretation.\n",
      "  warnings.warn(\n"
     ]
    },
    {
     "name": "stdout",
     "output_type": "stream",
     "text": [
      "60534\n",
      "quantiles 5e-05 0.02382\n",
      "DONE\n"
     ]
    },
    {
     "name": "stderr",
     "output_type": "stream",
     "text": [
      "C:\\ProgramData\\Anaconda3\\lib\\site-packages\\seaborn\\_decorators.py:36: FutureWarning: Pass the following variable as a keyword arg: x. From version 0.12, the only valid positional argument will be `data`, and passing other arguments without an explicit keyword will result in an error or misinterpretation.\n",
      "  warnings.warn(\n"
     ]
    },
    {
     "data": {
      "image/png": "[encoded data removed]",
      "text/plain": [
       "<Figure size 1080x360 with 2 Axes>"
      ]
     },
     "metadata": {
      "needs_background": "light"
     },
     "output_type": "display_data"
    }
   ],
   "source": [
    "import numpy as np\n",
    "import matplotlib.pyplot as plt\n",
    "import pandas as pd\n",
    "import os.path\n",
    "import seaborn as sns\n",
    "from scipy import stats\n",
    "\n",
    "%matplotlib inline\n",
    " \n",
    "\n",
    "def boxPlot(df, var, fig, axes, qmin, qmax):\n",
    "    # Filter data \n",
    "    q_low = df[var].quantile(qmin)\n",
    "    q_hi  = df[var].quantile(qmax)\n",
    "    print('quantiles', q_low,q_hi)\n",
    "    \n",
    "    df_filt = df[(df[var] < q_hi) & (df[var] > q_low)]\n",
    "    sns.boxplot(df_filt[var])\n",
    "#     sns.boxplot(ax=axes[0],data=df_filt[var])\n",
    "    return df_filt\n",
    "\n",
    "def rugPlot(df, var, fig, axes):\n",
    "    sns.rugplot(ax=axes[1],data=df[var])\n",
    "     \n",
    "\n",
    "def plotDist(df, var, fig, axes, xlb, ylb, lbl):\n",
    "#     sns.distplot(ax=axes[0], data=df[var]) # plot kde and shade\n",
    "    axes[0].set(xlabel=xlb, ylabel=ylb)\n",
    "    sns.kdeplot(ax=axes[0], data=df[var], label=lbl)\n",
    "#     sns.kdeplot(ax=axes[0], data=df[var], bw=0.2) # plot only the line\n",
    "#     sns.kdeplot(ax=axes[0], data=df[var], cumulative=True) # cumulative plot\n",
    "#     sns.kdeplot(ax=axes[0], x=df['vz'], y=df['vx'], shade=True, cbar=True) # contour plot\n",
    "   \n",
    " \n",
    "def readFile(fin):\n",
    "    data = []\n",
    "    with open (fin) as f:\n",
    "        for line in f:\n",
    "            if(line.split()[0] != 'TIME'):\n",
    "                cell = int(line.split()[0])\n",
    "                x = float(line.split()[1])\n",
    "                y = float(line.split()[2])\n",
    "                z = float(line.split()[3])\n",
    "                vx = float(line.split()[4])\n",
    "                vy = float(line.split()[5])\n",
    "                vz = float(line.split()[6])\n",
    "                gt = float(line.split()[7])\n",
    "                vel = np.sqrt(vx*vx+vy*vy+vz*vz)\n",
    "                if(np.sqrt(vx**2+vy**2+vz**2) > 1e-3):\n",
    "                    data.append([cell, x, y, z, vx,vy,vz,vel,gt])\n",
    "    return data\n",
    "\n",
    "\n",
    "def plotCellData(df1, var, fig, axes, xlb, ylb, lbl):\n",
    "    extract = (df1['cell'] == 551)\n",
    "    df1 = df1[extract]\n",
    "    \n",
    "#     extract = (df1['cell'] < 500)\n",
    "#     df1 = df1[extract]    \n",
    "    \n",
    "    print(len(df1))\n",
    "#     axes[0].scatter(df1['vel'])\n",
    "    sns.lineplot(ax=axes[0], data=df1[var])\n",
    " \n",
    "fig, axes = plt.subplots(1, 2, figsize=(15, 5))\n",
    "\n",
    "\n",
    "path_list = [\"E:/drum/density/8000/ppsf/0.1/damp/0.1/pwsf/0.4/254mm/12.7mm/0.3J/0.5N\",\n",
    "             \"E:/drum/density/8000/ppsf/0.1/damp/0.1/pwsf/0.4/254mm/12.7mm/0.3J/0.6N\",\n",
    "             \"E:/drum/density/8000/ppsf/0.1/damp/0.1/pwsf/0.4/254mm/12.7mm/0.3J/0.7N\",\n",
    "             \"E:/drum/density/8000/ppsf/0.1/damp/0.1/pwsf/0.4/254mm/12.7mm/0.4J/0.5N\",\n",
    "             \"E:/drum/density/8000/ppsf/0.1/damp/0.1/pwsf/0.4/254mm/12.7mm/0.4J/0.6N\",\n",
    "             \"E:/drum/density/8000/ppsf/0.1/damp/0.1/pwsf/0.4/254mm/12.7mm/0.4J/0.7N\",\n",
    "             \"E:/drum/density/8000/ppsf/0.1/damp/0.1/pwsf/0.4/254mm/12.7mm/0.5J/0.5N\",\n",
    "             \"E:/drum/density/8000/ppsf/0.1/damp/0.1/pwsf/0.4/254mm/12.7mm/0.5J/0.6N\",\n",
    "             \"E:/drum/density/8000/ppsf/0.1/damp/0.1/pwsf/0.4/254mm/12.7mm/0.5J/0.7N\",\n",
    "             \"E:/drum/density/8000/ppsf/0.1/damp/0.1/pwsf/0.4/254mm/19.05mm/0.3J/0.5N\",\n",
    "             \"E:/drum/density/8000/ppsf/0.1/damp/0.1/pwsf/0.4/254mm/19.05mm/0.3J/0.6N\",\n",
    "             \"E:/drum/density/8000/ppsf/0.1/damp/0.1/pwsf/0.4/254mm/19.05mm/0.3J/0.7N\",\n",
    "             \"E:/drum/density/8000/ppsf/0.1/damp/0.1/pwsf/0.4/254mm/19.05mm/0.4J/0.5N\",\n",
    "             \"E:/drum/density/8000/ppsf/0.1/damp/0.1/pwsf/0.4/254mm/19.05mm/0.4J/0.6N\",\n",
    "             \"E:/drum/density/8000/ppsf/0.1/damp/0.1/pwsf/0.4/254mm/19.05mm/0.4J/0.7N\",\n",
    "             \"E:/drum/density/8000/ppsf/0.1/damp/0.1/pwsf/0.4/254mm/19.05mm/0.5J/0.5N\",\n",
    "             \"E:/drum/density/8000/ppsf/0.1/damp/0.1/pwsf/0.4/254mm/19.05mm/0.5J/0.6N\",\n",
    "             \"E:/drum/density/8000/ppsf/0.1/damp/0.1/pwsf/0.4/254mm/19.05mm/0.5J/0.7N\",\n",
    "             \"E:/drum/density/8000/ppsf/0.1/damp/0.1/pwsf/0.4/254mm/25.4mm/0.3J/0.5N\",\n",
    "             \"E:/drum/density/8000/ppsf/0.1/damp/0.1/pwsf/0.4/254mm/25.4mm/0.3J/0.6N\",\n",
    "             \"E:/drum/density/8000/ppsf/0.1/damp/0.1/pwsf/0.4/254mm/25.4mm/0.3J/0.7N\",\n",
    "             \"E:/drum/density/8000/ppsf/0.1/damp/0.1/pwsf/0.4/254mm/25.4mm/0.4J/0.5N\",\n",
    "             \"E:/drum/density/8000/ppsf/0.1/damp/0.1/pwsf/0.4/254mm/25.4mm/0.4J/0.6N\",\n",
    "             \"E:/drum/density/8000/ppsf/0.1/damp/0.1/pwsf/0.4/254mm/25.4mm/0.4J/0.7N\",\n",
    "             \"E:/drum/density/8000/ppsf/0.1/damp/0.1/pwsf/0.4/254mm/25.4mm/0.5J/0.5N\",\n",
    "             \"E:/drum/density/8000/ppsf/0.1/damp/0.1/pwsf/0.4/254mm/25.4mm/0.5J/0.6N\",\n",
    "             \"E:/drum/density/8000/ppsf/0.1/damp/0.1/pwsf/0.4/254mm/25.4mm/0.5J/0.7N\"]\n",
    "\n",
    "\n",
    "# path_list = [#\"E:/drum/density/8000/ppsf/0.1/damp/0.1/pwsf/0.4/4000mm/25.4mm/0.3J/0.5N\",\n",
    "#             \"E:/drum/density/8000/ppsf/0.1/damp/0.1/pwsf/0.4/4000mm/25.4mm/0.3J/0.6N\",\n",
    "#              \"E:/drum/density/8000/ppsf/0.1/damp/0.1/pwsf/0.4/4000mm/25.4mm/0.3J/0.7N\"]\n",
    "#              \"E:/drum/density/8000/ppsf/0.1/damp/0.1/pwsf/0.4/4000mm/50mm/0.3J/0.5N\",\n",
    "#             \"E:/drum/density/8000/ppsf/0.1/damp/0.1/pwsf/0.4/4000mm/50mm/0.3J/0.6N\",\n",
    "#              \"E:/drum/density/8000/ppsf/0.1/damp/0.1/pwsf/0.4/4000mm/50mm/0.3J/0.7N\"]\n",
    "#              \"E:/drum/density/8000/ppsf/0.1/damp/0.1/pwsf/0.4/4000mm/50mm/0.4J/0.5N\",\n",
    "#             \"E:/drum/density/8000/ppsf/0.1/damp/0.1/pwsf/0.4/4000mm/50mm/0.4J/0.6N\",\n",
    "# #              \"E:/drum/density/8000/ppsf/0.1/damp/0.1/pwsf/0.4/4000mm/50mm/0.4J/0.7N\"]\n",
    "#             \"E:/drum/density/8000/ppsf/0.1/damp/0.1/pwsf/0.4/2000mm/31.75mm/0.3J/0.5N\",\n",
    "#             \"E:/drum/density/8000/ppsf/0.1/damp/0.1/pwsf/0.4/2000mm/31.75mm/0.3J/0.6N\",\n",
    "#              \"E:/drum/density/8000/ppsf/0.1/damp/0.1/pwsf/0.4/2000mm/31.75mm/0.3J/0.7N\",\n",
    "#             \"E:/drum/density/8000/ppsf/0.1/damp/0.1/pwsf/0.4/2000mm/31.75mm/0.4J/0.5N\",\n",
    "#             \"E:/drum/density/8000/ppsf/0.1/damp/0.1/pwsf/0.4/2000mm/31.75mm/0.4J/0.6N\",\n",
    "#              \"E:/drum/density/8000/ppsf/0.1/damp/0.1/pwsf/0.4/2000mm/31.75mm/0.4J/0.7N\",\n",
    "#             \"E:/drum/density/8000/ppsf/0.1/damp/0.1/pwsf/0.4/2000mm/31.75mm/0.5J/0.5N\",\n",
    "#             \"E:/drum/density/8000/ppsf/0.1/damp/0.1/pwsf/0.4/2000mm/31.75mm/0.5J/0.6N\",\n",
    "#              \"E:/drum/density/8000/ppsf/0.1/damp/0.1/pwsf/0.4/2000mm/31.75mm/0.5J/0.7N\"]\n",
    "\n",
    "             \n",
    "             \n",
    "out_data = []\n",
    "xlb = 'Velocity (m/s)'\n",
    "xlb = '$GT (m/s)^{2}$'\n",
    "xlb = 'Impact Energy (J)'\n",
    "ylb = 'Probability Density'\n",
    "lbl = '2000mm'\n",
    "var = 'gT'\n",
    "\n",
    "for ls in path_list:\n",
    "    fin = os.path.join(ls, 'bdbox.dat')\n",
    "    data = readFile(fin)\n",
    "    df = pd.DataFrame(data, columns=['cell', 'x', 'y', 'z','vx','vy','vz', 'vel','gT'])\n",
    "    print(len(df))\n",
    "    # Box plot\n",
    "    df_filt = boxPlot(df, var, fig, axes, 0.001, 0.72)\n",
    "    out_data.append((3./2.)*df_filt['gT'].mean())\n",
    "    \n",
    "\n",
    "    \n",
    "df_out = pd.DataFrame({'list':path_list, 'gT':out_data})\n",
    "fout = \"../../drum/paper/data/granulartemp254mm.csv\" \n",
    "df_out.to_csv(fout)\n",
    "\n",
    "# Plot Distribution\n",
    "plotDist(df_out, var, fig, axes, xlb, ylb, '254mm')\n",
    "\n",
    "\n",
    "\n",
    "# fout = os.path.join(path, \"impactE.jpg\")\n",
    "# fig.savefig(fout, dpi=300)\n",
    "\n",
    "\n",
    "# lg = plt.legend(loc=\"upper left\")\n",
    "# lg.get_frame().set_alpha(0)\n",
    "# Rugplot\n",
    "# rugPlot(df, var)\n",
    "\n",
    "print('DONE')\n",
    "\n"
   ]
  },
  {
   "cell_type": "code",
   "execution_count": null,
   "metadata": {},
   "outputs": [],
   "source": [
    "# sns.rugplot(df[var])\n",
    "\n",
    "# # Set up the x-axis for the plot\n",
    "# x_min = df_filt[var].min()\n",
    "# x_max = df_filt[var].max()\n",
    "\n",
    "# print(x_min)\n",
    "\n",
    "# # 100 equally spacced points from x_min to m_max\n",
    "# x_axis = np.linspace(x_min,x_max,100)\n",
    "\n",
    "# # From Wikipedia\n",
    "# bandwidth = ((4*df[var].std()**5)/(3*len(df[var])))**2\n",
    "\n",
    "# # Create an empty kernal list\n",
    "# kernal_list = []\n",
    "\n",
    "\n",
    "# for data_point in df[var]:\n",
    "#     # Create a kernal for each point and append to list\n",
    "#     kernal = stats.norm(data_point,bandwidth).pdf(x_axis)\n",
    "#     kernal_list.append(kernal)\n",
    "# #     print(kernal.max())\n",
    "    \n",
    "#     # Scale for plotting\n",
    "#     if(kernal.max() > 0):\n",
    "#         kernal = kernal/kernal.max()\n",
    "#         kernal = kernal*.4\n",
    "#         plt.plot(x_axis, kernal, color='gray', alpha=0.5)\n",
    "    \n",
    "    \n",
    "# plt.ylim(0,1)"
   ]
  },
  {
   "cell_type": "code",
   "execution_count": null,
   "metadata": {},
   "outputs": [],
   "source": [
    "# plotDist(df['vel'])"
   ]
  },
  {
   "cell_type": "code",
   "execution_count": null,
   "metadata": {},
   "outputs": [],
   "source": [
    "# inf = os.path.join(path, \"pw-impact.dat\")\n",
    "# (v1, ang1, nrmE1, tngE1, totNE, totTE,totE, totElist) = getPWList(inf)\n",
    "\n",
    "# inf = os.path.join(path, \"pp-impact.dat\")\n",
    "# data = getPPList(inf)\n",
    "\n",
    "# df2 = pd.DataFrame(data, columns=['v','theta','nE','tE','nE','tE','totE'])\n",
    "# print(df2.head())\n",
    "\n",
    "# selected = df['cell'] == '551'\n",
    "# if (selected): print(selected)\n",
    "# df2 = df[selected]\n",
    "# df2 = df\n",
    "# print(df.tail())\n",
    "# plt.plot(df2['gT'])\n",
    "\n",
    "# gt = sns.load_dataset('tips')\n",
    "# print(type(gt))\n",
    "\n",
    "# sns.distplot(df['vx'], bins=60)\n",
    "# sns.distplot(df['vy'], bins=60)\n",
    "# sns.distplot(df['vz'], bins=60)\n",
    "# sns.jointplot(x=df['vx'], y=df['gT'], data=df)\n",
    "\n",
    "# Filter data \n",
    "# q_low = df[\"vx\"].quantile(0.002)\n",
    "# q_hi  = df[\"vx\"].quantile(0.995)\n",
    "\n",
    "# q_low = df[\"vx\"].quantile(0.002)\n",
    "# q_hi  = df[\"vx\"].quantile(0.995)\n",
    "\n",
    "\n",
    "# df_filtered = df2[(df2[\"tE\"] < q_hi) & (df2[\"tE\"] > q_low)]\n",
    "\n",
    "# # sns.pairplot(df)\n",
    "# sns.distplot(df2['nE'])\n",
    "# sns.distplot(df2['tE'])\n",
    "# sns.distplot(df2['totE'])\n",
    "# sns.boxplot(data=df_filtered['gT'])\n",
    "# sns.violinplot(data=df_filtered['gT'])"
   ]
  },
  {
   "cell_type": "code",
   "execution_count": null,
   "metadata": {},
   "outputs": [],
   "source": []
  }
 ],
 "metadata": {
  "kernelspec": {
   "display_name": "Python 3",
   "language": "python",
   "name": "python3"
  },
  "language_info": {
   "codemirror_mode": {
    "name": "ipython",
    "version": 3
   },
   "file_extension": ".py",
   "mimetype": "text/x-python",
   "name": "python",
   "nbconvert_exporter": "python",
   "pygments_lexer": "ipython3",
   "version": "3.8.5"
  }
 },
 "nbformat": 4,
 "nbformat_minor": 4
}
