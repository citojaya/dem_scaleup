{
 "cells": [
  {
   "cell_type": "markdown",
   "metadata": {},
   "source": [
    "### Read sample.dat and create a mirror image of particle position on  y=0 plane"
   ]
  },
  {
   "cell_type": "code",
   "execution_count": 1,
   "metadata": {},
   "outputs": [
    {
     "name": "stdout",
     "output_type": "stream",
     "text": [
      "DONE\n"
     ]
    }
   ],
   "source": [
    "import numpy as np\n",
    "import matplotlib as plt\n",
    "import pandas as pd\n",
    "import os.path\n",
    "\n",
    "def mirror(data):\n",
    "    out_data = []\n",
    "    np = int(data[3].split()[0])\n",
    "    \n",
    "    for i in range(7, np+7):\n",
    "        out_data.append(data[i].strip())\n",
    "        tup = data[i].strip().split()\n",
    "        z = -float(tup[2])\n",
    "        line = \" \".join([tup[0],tup[1],str(z),tup[3],tup[4],tup[5],tup[6]])\n",
    "#         print(line)\n",
    "        out_data.append(line)\n",
    "    return (out_data, np)\n",
    "\n",
    "def writeFile(fout, data):\n",
    "    f = open(fout, \"w\")\n",
    "    f.write(\"TIME\\n\") \n",
    "    f.write(\"0.0\\n\")\n",
    "    f.write(\"NP\\n\")\n",
    "    f.write(str(np*2)+\"\\n\")\n",
    "    f.write(\"ROTANG\\n\")\n",
    "    f.write(\"0.0\\n\")  \n",
    "    f.write(\"PARTICLES\\n\")\n",
    "    for line in data:\n",
    "        f.write(line+\"\\n\")\n",
    "    \n",
    "    \n",
    "def readFile(fin):\n",
    "    data = []\n",
    "    with open (fin) as f:\n",
    "        for line in f:\n",
    "            data.append(line)\n",
    "    \n",
    "    return data\n",
    "\n",
    "path = \"../../drum/4000mm\"\n",
    "fin = os.path.join(path, \"sample.dump\")\n",
    "fout = os.path.join(path, \"mirror.dump\")\n",
    "# readFile(fin)\n",
    "(data, np) = mirror(readFile(fin))\n",
    "writeFile(fout, data)\n",
    "\n",
    "print(\"DONE\")"
   ]
  },
  {
   "cell_type": "code",
   "execution_count": null,
   "metadata": {},
   "outputs": [],
   "source": []
  }
 ],
 "metadata": {
  "kernelspec": {
   "display_name": "Python 3",
   "language": "python",
   "name": "python3"
  },
  "language_info": {
   "codemirror_mode": {
    "name": "ipython",
    "version": 3
   },
   "file_extension": ".py",
   "mimetype": "text/x-python",
   "name": "python",
   "nbconvert_exporter": "python",
   "pygments_lexer": "ipython3",
   "version": "3.8.5"
  }
 },
 "nbformat": 4,
 "nbformat_minor": 4
}
